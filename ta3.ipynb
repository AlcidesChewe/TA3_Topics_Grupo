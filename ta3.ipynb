{
  "cells": [
    {
      "cell_type": "code",
      "execution_count": 6,
      "metadata": {
        "colab": {
          "base_uri": "https://localhost:8080/"
        },
        "id": "Ae6IQ2FAJ-Ya",
        "outputId": "218b62b7-3c35-4da7-f0e6-02573b3ae79c"
      },
      "outputs": [
        {
          "name": "stdout",
          "output_type": "stream",
          "text": [
            "Requirement already satisfied: python-constraint in /usr/local/lib/python3.10/dist-packages (1.4.0)\n",
            "Requirement already satisfied: pandas in /usr/local/lib/python3.10/dist-packages (2.0.3)\n",
            "Requirement already satisfied: python-dateutil>=2.8.2 in /usr/local/lib/python3.10/dist-packages (from pandas) (2.8.2)\n",
            "Requirement already satisfied: pytz>=2020.1 in /usr/local/lib/python3.10/dist-packages (from pandas) (2023.4)\n",
            "Requirement already satisfied: tzdata>=2022.1 in /usr/local/lib/python3.10/dist-packages (from pandas) (2024.1)\n",
            "Requirement already satisfied: numpy>=1.21.0 in /usr/local/lib/python3.10/dist-packages (from pandas) (1.25.2)\n",
            "Requirement already satisfied: six>=1.5 in /usr/local/lib/python3.10/dist-packages (from python-dateutil>=2.8.2->pandas) (1.16.0)\n",
            "Frequent Itemsets: [['bread', 'butter'], ['bread', 'milk'], ['bread'], ['butter'], ['milk']]\n",
            "Association Rules:\n",
            "('butter',) -> ('bread',) (confidence: 1.0)\n",
            "('milk',) -> ('bread',) (confidence: 1.0)\n"
          ]
        }
      ],
      "source": [
        "\n",
        "!pip install python-constraint pandas\n",
        "\n",
        "import pandas as pd\n",
        "from constraint import Problem, AllDifferentConstraint\n",
        "from itertools import combinations\n",
        "\n",
        "# conjunto de datos de transacciones de mercado\n",
        "data = {\n",
        "    'TID': [1, 2, 3, 4, 5],\n",
        "    'Items': [\n",
        "        ['milk', 'bread', 'butter'],\n",
        "        ['beer', 'bread'],\n",
        "        ['milk', 'bread', 'butter'],\n",
        "        ['beer', 'bread', 'butter'],\n",
        "        ['milk', 'bread']\n",
        "    ]\n",
        "}\n",
        "\n",
        "df = pd.DataFrame(data)\n",
        "\n",
        "min_support = 0.6\n",
        "\n",
        "def find_frequent_itemsets(transactions, min_support):\n",
        "    items = {item for transaction in transactions for item in transaction}\n",
        "    problem = Problem()\n",
        "    problem.addVariables(items, [0, 1])\n",
        "\n",
        "    def support_constraint(*args):\n",
        "        selected_items = [item for item, included in zip(items, args) if included]\n",
        "        count = sum(1 for transaction in transactions if set(selected_items).issubset(set(transaction)))\n",
        "        return count / len(transactions) >= min_support\n",
        "\n",
        "    problem.addConstraint(support_constraint, items)\n",
        "\n",
        "    frequent_itemsets = []\n",
        "    for solution in problem.getSolutions():\n",
        "        itemset = [item for item, included in solution.items() if included]\n",
        "        if itemset:\n",
        "            frequent_itemsets.append(itemset)\n",
        "\n",
        "    return frequent_itemsets\n",
        "\n",
        "transactions = df['Items'].tolist()\n",
        "frequent_itemsets = find_frequent_itemsets(transactions, min_support)\n",
        "print(\"Frequent Itemsets:\", frequent_itemsets)\n",
        "\n",
        "def find_association_rules(frequent_itemsets, transactions, min_confidence):\n",
        "    rules = []\n",
        "    for itemset in frequent_itemsets:\n",
        "        if len(itemset) > 1:\n",
        "            for i in range(1, len(itemset)):\n",
        "                for lhs in combinations(itemset, i):\n",
        "                    rhs = tuple(item for item in itemset if item not in lhs)\n",
        "                    support_lhs = sum(1 for transaction in transactions if set(lhs).issubset(set(transaction)))\n",
        "                    support_itemset = sum(1 for transaction in transactions if set(itemset).issubset(set(transaction)))\n",
        "                    confidence = support_itemset / support_lhs if support_lhs > 0 else 0\n",
        "                    if confidence >= min_confidence:\n",
        "                        rules.append((lhs, rhs, confidence))\n",
        "    return rules\n",
        "\n",
        "min_confidence = 0.7\n",
        "\n",
        "association_rules = find_association_rules(frequent_itemsets, transactions, min_confidence)\n",
        "print(\"Association Rules:\")\n",
        "for rule in association_rules:\n",
        "    print(f\"{rule[0]} -> {rule[1]} (confidence: {rule[2]})\")\n"
      ]
    }
  ],
  "metadata": {
    "colab": {
      "provenance": []
    },
    "kernelspec": {
      "display_name": "Python 3",
      "name": "python3"
    },
    "language_info": {
      "name": "python"
    }
  },
  "nbformat": 4,
  "nbformat_minor": 0
}
